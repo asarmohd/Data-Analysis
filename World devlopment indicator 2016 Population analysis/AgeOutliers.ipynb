{
 "cells": [
  {
   "cell_type": "code",
   "execution_count": 217,
   "metadata": {},
   "outputs": [],
   "source": [
    "import pandas as pd\n",
    "import numpy as np\n",
    "import sklearn as sk\n",
    "import matplotlib.pyplot as plt\n",
    "%matplotlib inline  \n",
    "import seaborn as sns"
   ]
  },
  {
   "cell_type": "code",
   "execution_count": 218,
   "metadata": {},
   "outputs": [
    {
     "data": {
      "text/html": [
       "<div>\n",
       "<style scoped>\n",
       "    .dataframe tbody tr th:only-of-type {\n",
       "        vertical-align: middle;\n",
       "    }\n",
       "\n",
       "    .dataframe tbody tr th {\n",
       "        vertical-align: top;\n",
       "    }\n",
       "\n",
       "    .dataframe thead th {\n",
       "        text-align: right;\n",
       "    }\n",
       "</style>\n",
       "<table border=\"1\" class=\"dataframe\">\n",
       "  <thead>\n",
       "    <tr style=\"text-align: right;\">\n",
       "      <th></th>\n",
       "      <th>Country Name</th>\n",
       "      <th>Country Code</th>\n",
       "      <th>Indicator Name</th>\n",
       "      <th>Indicator Code</th>\n",
       "      <th>1960</th>\n",
       "      <th>1961</th>\n",
       "      <th>1962</th>\n",
       "      <th>1963</th>\n",
       "      <th>1964</th>\n",
       "      <th>1965</th>\n",
       "      <th>...</th>\n",
       "      <th>2009</th>\n",
       "      <th>2010</th>\n",
       "      <th>2011</th>\n",
       "      <th>2012</th>\n",
       "      <th>2013</th>\n",
       "      <th>2014</th>\n",
       "      <th>2015</th>\n",
       "      <th>2016</th>\n",
       "      <th>2017</th>\n",
       "      <th>Unnamed: 62</th>\n",
       "    </tr>\n",
       "  </thead>\n",
       "  <tbody>\n",
       "    <tr>\n",
       "      <th>303937</th>\n",
       "      <td>Niger</td>\n",
       "      <td>NER</td>\n",
       "      <td>Age dependency ratio (% of working-age populat...</td>\n",
       "      <td>SP.POP.DPND</td>\n",
       "      <td>97.727810</td>\n",
       "      <td>98.643628</td>\n",
       "      <td>99.471324</td>\n",
       "      <td>100.158333</td>\n",
       "      <td>100.548065</td>\n",
       "      <td>100.562548</td>\n",
       "      <td>...</td>\n",
       "      <td>109.825817</td>\n",
       "      <td>110.229127</td>\n",
       "      <td>110.910947</td>\n",
       "      <td>111.338298</td>\n",
       "      <td>111.573962</td>\n",
       "      <td>111.665115</td>\n",
       "      <td>111.615631</td>\n",
       "      <td>111.778739</td>\n",
       "      <td>111.647781</td>\n",
       "      <td>NaN</td>\n",
       "    </tr>\n",
       "    <tr>\n",
       "      <th>303938</th>\n",
       "      <td>Niger</td>\n",
       "      <td>NER</td>\n",
       "      <td>Age dependency ratio, old (% of working-age po...</td>\n",
       "      <td>SP.POP.DPND.OL</td>\n",
       "      <td>2.235373</td>\n",
       "      <td>2.371556</td>\n",
       "      <td>2.496452</td>\n",
       "      <td>2.609956</td>\n",
       "      <td>2.711004</td>\n",
       "      <td>2.799775</td>\n",
       "      <td>...</td>\n",
       "      <td>5.166369</td>\n",
       "      <td>5.191626</td>\n",
       "      <td>5.246548</td>\n",
       "      <td>5.292613</td>\n",
       "      <td>5.330681</td>\n",
       "      <td>5.359870</td>\n",
       "      <td>5.379984</td>\n",
       "      <td>5.399137</td>\n",
       "      <td>5.403775</td>\n",
       "      <td>NaN</td>\n",
       "    </tr>\n",
       "    <tr>\n",
       "      <th>303939</th>\n",
       "      <td>Niger</td>\n",
       "      <td>NER</td>\n",
       "      <td>Age dependency ratio, young (% of working-age ...</td>\n",
       "      <td>SP.POP.DPND.YG</td>\n",
       "      <td>95.492437</td>\n",
       "      <td>96.272072</td>\n",
       "      <td>96.974872</td>\n",
       "      <td>97.548378</td>\n",
       "      <td>97.837061</td>\n",
       "      <td>97.762773</td>\n",
       "      <td>...</td>\n",
       "      <td>104.659448</td>\n",
       "      <td>105.037501</td>\n",
       "      <td>105.664399</td>\n",
       "      <td>106.045685</td>\n",
       "      <td>106.243281</td>\n",
       "      <td>106.305245</td>\n",
       "      <td>106.235647</td>\n",
       "      <td>106.379602</td>\n",
       "      <td>106.244006</td>\n",
       "      <td>NaN</td>\n",
       "    </tr>\n",
       "  </tbody>\n",
       "</table>\n",
       "<p>3 rows × 63 columns</p>\n",
       "</div>"
      ],
      "text/plain": [
       "       Country Name Country Code  \\\n",
       "303937        Niger          NER   \n",
       "303938        Niger          NER   \n",
       "303939        Niger          NER   \n",
       "\n",
       "                                           Indicator Name  Indicator Code  \\\n",
       "303937  Age dependency ratio (% of working-age populat...     SP.POP.DPND   \n",
       "303938  Age dependency ratio, old (% of working-age po...  SP.POP.DPND.OL   \n",
       "303939  Age dependency ratio, young (% of working-age ...  SP.POP.DPND.YG   \n",
       "\n",
       "             1960       1961       1962        1963        1964        1965  \\\n",
       "303937  97.727810  98.643628  99.471324  100.158333  100.548065  100.562548   \n",
       "303938   2.235373   2.371556   2.496452    2.609956    2.711004    2.799775   \n",
       "303939  95.492437  96.272072  96.974872   97.548378   97.837061   97.762773   \n",
       "\n",
       "           ...             2009        2010        2011        2012  \\\n",
       "303937     ...       109.825817  110.229127  110.910947  111.338298   \n",
       "303938     ...         5.166369    5.191626    5.246548    5.292613   \n",
       "303939     ...       104.659448  105.037501  105.664399  106.045685   \n",
       "\n",
       "              2013        2014        2015        2016        2017  \\\n",
       "303937  111.573962  111.665115  111.615631  111.778739  111.647781   \n",
       "303938    5.330681    5.359870    5.379984    5.399137    5.403775   \n",
       "303939  106.243281  106.305245  106.235647  106.379602  106.244006   \n",
       "\n",
       "        Unnamed: 62  \n",
       "303937          NaN  \n",
       "303938          NaN  \n",
       "303939          NaN  \n",
       "\n",
       "[3 rows x 63 columns]"
      ]
     },
     "execution_count": 218,
     "metadata": {},
     "output_type": "execute_result"
    }
   ],
   "source": [
    "df = pd.read_csv(\"Documents/SlingMediaChallenge/WDI_csv/WDIData.csv\")\n",
    "dfner= df.loc[df['Indicator Code'].isin(['SP.POP.DPND','SP.POP.DPND.OL','SP.POP.DPND.YG'])]\n",
    "dfner = dfner[dfner['Country Code'].isin(['NER'])]\n",
    "dfner.head()"
   ]
  },
  {
   "cell_type": "code",
   "execution_count": 219,
   "metadata": {},
   "outputs": [],
   "source": [
    "dfpop = df.loc[df['Indicator Code'].isin(['SP.POP.DPND','SP.POP.DPND.OL','SP.POP.DPND.YG'])]\n"
   ]
  },
  {
   "cell_type": "code",
   "execution_count": 220,
   "metadata": {},
   "outputs": [
    {
     "data": {
      "text/html": [
       "<div>\n",
       "<style scoped>\n",
       "    .dataframe tbody tr th:only-of-type {\n",
       "        vertical-align: middle;\n",
       "    }\n",
       "\n",
       "    .dataframe tbody tr th {\n",
       "        vertical-align: top;\n",
       "    }\n",
       "\n",
       "    .dataframe thead th {\n",
       "        text-align: right;\n",
       "    }\n",
       "</style>\n",
       "<table border=\"1\" class=\"dataframe\">\n",
       "  <thead>\n",
       "    <tr style=\"text-align: right;\">\n",
       "      <th></th>\n",
       "      <th>Country Name</th>\n",
       "      <th>Country Code</th>\n",
       "      <th>Indicator Name</th>\n",
       "      <th>Indicator Code</th>\n",
       "      <th>1960</th>\n",
       "      <th>1961</th>\n",
       "      <th>1962</th>\n",
       "      <th>1963</th>\n",
       "      <th>1964</th>\n",
       "      <th>1965</th>\n",
       "      <th>...</th>\n",
       "      <th>2009</th>\n",
       "      <th>2010</th>\n",
       "      <th>2011</th>\n",
       "      <th>2012</th>\n",
       "      <th>2013</th>\n",
       "      <th>2014</th>\n",
       "      <th>2015</th>\n",
       "      <th>2016</th>\n",
       "      <th>2017</th>\n",
       "      <th>Unnamed: 62</th>\n",
       "    </tr>\n",
       "  </thead>\n",
       "  <tbody>\n",
       "    <tr>\n",
       "      <th>56</th>\n",
       "      <td>Arab World</td>\n",
       "      <td>ARB</td>\n",
       "      <td>Age dependency ratio (% of working-age populat...</td>\n",
       "      <td>SP.POP.DPND</td>\n",
       "      <td>88.205810</td>\n",
       "      <td>89.644734</td>\n",
       "      <td>90.944498</td>\n",
       "      <td>92.063631</td>\n",
       "      <td>92.892881</td>\n",
       "      <td>93.364459</td>\n",
       "      <td>...</td>\n",
       "      <td>63.365027</td>\n",
       "      <td>62.694715</td>\n",
       "      <td>62.341696</td>\n",
       "      <td>62.168854</td>\n",
       "      <td>62.118188</td>\n",
       "      <td>62.089858</td>\n",
       "      <td>62.017234</td>\n",
       "      <td>62.057475</td>\n",
       "      <td>61.916180</td>\n",
       "      <td>NaN</td>\n",
       "    </tr>\n",
       "    <tr>\n",
       "      <th>57</th>\n",
       "      <td>Arab World</td>\n",
       "      <td>ARB</td>\n",
       "      <td>Age dependency ratio, old (% of working-age po...</td>\n",
       "      <td>SP.POP.DPND.OL</td>\n",
       "      <td>6.602746</td>\n",
       "      <td>6.714313</td>\n",
       "      <td>6.809043</td>\n",
       "      <td>6.884778</td>\n",
       "      <td>6.937449</td>\n",
       "      <td>6.965510</td>\n",
       "      <td>...</td>\n",
       "      <td>6.691941</td>\n",
       "      <td>6.680537</td>\n",
       "      <td>6.701228</td>\n",
       "      <td>6.731905</td>\n",
       "      <td>6.776477</td>\n",
       "      <td>6.840704</td>\n",
       "      <td>6.928260</td>\n",
       "      <td>7.050994</td>\n",
       "      <td>7.190462</td>\n",
       "      <td>NaN</td>\n",
       "    </tr>\n",
       "    <tr>\n",
       "      <th>58</th>\n",
       "      <td>Arab World</td>\n",
       "      <td>ARB</td>\n",
       "      <td>Age dependency ratio, young (% of working-age ...</td>\n",
       "      <td>SP.POP.DPND.YG</td>\n",
       "      <td>81.465388</td>\n",
       "      <td>82.775832</td>\n",
       "      <td>83.945660</td>\n",
       "      <td>84.928415</td>\n",
       "      <td>85.637945</td>\n",
       "      <td>86.037480</td>\n",
       "      <td>...</td>\n",
       "      <td>54.755813</td>\n",
       "      <td>54.074423</td>\n",
       "      <td>53.702683</td>\n",
       "      <td>53.519299</td>\n",
       "      <td>53.457553</td>\n",
       "      <td>53.403490</td>\n",
       "      <td>53.281380</td>\n",
       "      <td>53.243579</td>\n",
       "      <td>53.006604</td>\n",
       "      <td>NaN</td>\n",
       "    </tr>\n",
       "    <tr>\n",
       "      <th>1647</th>\n",
       "      <td>Caribbean small states</td>\n",
       "      <td>CSS</td>\n",
       "      <td>Age dependency ratio (% of working-age populat...</td>\n",
       "      <td>SP.POP.DPND</td>\n",
       "      <td>90.426835</td>\n",
       "      <td>92.044514</td>\n",
       "      <td>93.471578</td>\n",
       "      <td>94.654536</td>\n",
       "      <td>95.593472</td>\n",
       "      <td>96.340008</td>\n",
       "      <td>...</td>\n",
       "      <td>52.629353</td>\n",
       "      <td>51.668780</td>\n",
       "      <td>50.848709</td>\n",
       "      <td>50.026796</td>\n",
       "      <td>49.252632</td>\n",
       "      <td>48.608672</td>\n",
       "      <td>48.143790</td>\n",
       "      <td>47.854973</td>\n",
       "      <td>47.783816</td>\n",
       "      <td>NaN</td>\n",
       "    </tr>\n",
       "    <tr>\n",
       "      <th>1648</th>\n",
       "      <td>Caribbean small states</td>\n",
       "      <td>CSS</td>\n",
       "      <td>Age dependency ratio, old (% of working-age po...</td>\n",
       "      <td>SP.POP.DPND.OL</td>\n",
       "      <td>7.863890</td>\n",
       "      <td>8.066763</td>\n",
       "      <td>8.280795</td>\n",
       "      <td>8.492469</td>\n",
       "      <td>8.697817</td>\n",
       "      <td>8.903197</td>\n",
       "      <td>...</td>\n",
       "      <td>11.418727</td>\n",
       "      <td>11.547283</td>\n",
       "      <td>11.680850</td>\n",
       "      <td>11.839413</td>\n",
       "      <td>12.020912</td>\n",
       "      <td>12.225391</td>\n",
       "      <td>12.457792</td>\n",
       "      <td>12.729961</td>\n",
       "      <td>13.023415</td>\n",
       "      <td>NaN</td>\n",
       "    </tr>\n",
       "  </tbody>\n",
       "</table>\n",
       "<p>5 rows × 63 columns</p>\n",
       "</div>"
      ],
      "text/plain": [
       "                Country Name Country Code  \\\n",
       "56                Arab World          ARB   \n",
       "57                Arab World          ARB   \n",
       "58                Arab World          ARB   \n",
       "1647  Caribbean small states          CSS   \n",
       "1648  Caribbean small states          CSS   \n",
       "\n",
       "                                         Indicator Name  Indicator Code  \\\n",
       "56    Age dependency ratio (% of working-age populat...     SP.POP.DPND   \n",
       "57    Age dependency ratio, old (% of working-age po...  SP.POP.DPND.OL   \n",
       "58    Age dependency ratio, young (% of working-age ...  SP.POP.DPND.YG   \n",
       "1647  Age dependency ratio (% of working-age populat...     SP.POP.DPND   \n",
       "1648  Age dependency ratio, old (% of working-age po...  SP.POP.DPND.OL   \n",
       "\n",
       "           1960       1961       1962       1963       1964       1965  \\\n",
       "56    88.205810  89.644734  90.944498  92.063631  92.892881  93.364459   \n",
       "57     6.602746   6.714313   6.809043   6.884778   6.937449   6.965510   \n",
       "58    81.465388  82.775832  83.945660  84.928415  85.637945  86.037480   \n",
       "1647  90.426835  92.044514  93.471578  94.654536  95.593472  96.340008   \n",
       "1648   7.863890   8.066763   8.280795   8.492469   8.697817   8.903197   \n",
       "\n",
       "         ...            2009       2010       2011       2012       2013  \\\n",
       "56       ...       63.365027  62.694715  62.341696  62.168854  62.118188   \n",
       "57       ...        6.691941   6.680537   6.701228   6.731905   6.776477   \n",
       "58       ...       54.755813  54.074423  53.702683  53.519299  53.457553   \n",
       "1647     ...       52.629353  51.668780  50.848709  50.026796  49.252632   \n",
       "1648     ...       11.418727  11.547283  11.680850  11.839413  12.020912   \n",
       "\n",
       "           2014       2015       2016       2017  Unnamed: 62  \n",
       "56    62.089858  62.017234  62.057475  61.916180          NaN  \n",
       "57     6.840704   6.928260   7.050994   7.190462          NaN  \n",
       "58    53.403490  53.281380  53.243579  53.006604          NaN  \n",
       "1647  48.608672  48.143790  47.854973  47.783816          NaN  \n",
       "1648  12.225391  12.457792  12.729961  13.023415          NaN  \n",
       "\n",
       "[5 rows x 63 columns]"
      ]
     },
     "execution_count": 220,
     "metadata": {},
     "output_type": "execute_result"
    }
   ],
   "source": [
    "len(dfpop['Country Code'].unique())\n",
    "dfpop.head()"
   ]
  },
  {
   "cell_type": "code",
   "execution_count": 221,
   "metadata": {},
   "outputs": [],
   "source": [
    "dfpop = dfpop[['Country Code','Indicator Code','2016']]"
   ]
  },
  {
   "cell_type": "code",
   "execution_count": 222,
   "metadata": {},
   "outputs": [
    {
     "data": {
      "text/html": [
       "<div>\n",
       "<style scoped>\n",
       "    .dataframe tbody tr th:only-of-type {\n",
       "        vertical-align: middle;\n",
       "    }\n",
       "\n",
       "    .dataframe tbody tr th {\n",
       "        vertical-align: top;\n",
       "    }\n",
       "\n",
       "    .dataframe thead th {\n",
       "        text-align: right;\n",
       "    }\n",
       "</style>\n",
       "<table border=\"1\" class=\"dataframe\">\n",
       "  <thead>\n",
       "    <tr style=\"text-align: right;\">\n",
       "      <th></th>\n",
       "      <th>Country Code</th>\n",
       "      <th>Indicator Code</th>\n",
       "      <th>2016</th>\n",
       "    </tr>\n",
       "  </thead>\n",
       "  <tbody>\n",
       "    <tr>\n",
       "      <th>416899</th>\n",
       "      <td>ZMB</td>\n",
       "      <td>SP.POP.DPND.OL</td>\n",
       "      <td>4.753810</td>\n",
       "    </tr>\n",
       "    <tr>\n",
       "      <th>416900</th>\n",
       "      <td>ZMB</td>\n",
       "      <td>SP.POP.DPND.YG</td>\n",
       "      <td>86.025853</td>\n",
       "    </tr>\n",
       "    <tr>\n",
       "      <th>418489</th>\n",
       "      <td>ZWE</td>\n",
       "      <td>SP.POP.DPND</td>\n",
       "      <td>79.195304</td>\n",
       "    </tr>\n",
       "    <tr>\n",
       "      <th>418490</th>\n",
       "      <td>ZWE</td>\n",
       "      <td>SP.POP.DPND.OL</td>\n",
       "      <td>5.045339</td>\n",
       "    </tr>\n",
       "    <tr>\n",
       "      <th>418491</th>\n",
       "      <td>ZWE</td>\n",
       "      <td>SP.POP.DPND.YG</td>\n",
       "      <td>74.149965</td>\n",
       "    </tr>\n",
       "  </tbody>\n",
       "</table>\n",
       "</div>"
      ],
      "text/plain": [
       "       Country Code  Indicator Code       2016\n",
       "416899          ZMB  SP.POP.DPND.OL   4.753810\n",
       "416900          ZMB  SP.POP.DPND.YG  86.025853\n",
       "418489          ZWE     SP.POP.DPND  79.195304\n",
       "418490          ZWE  SP.POP.DPND.OL   5.045339\n",
       "418491          ZWE  SP.POP.DPND.YG  74.149965"
      ]
     },
     "execution_count": 222,
     "metadata": {},
     "output_type": "execute_result"
    }
   ],
   "source": [
    "dfpop.tail()"
   ]
  },
  {
   "cell_type": "code",
   "execution_count": 223,
   "metadata": {},
   "outputs": [],
   "source": [
    "dfpop_Wrk = dfpop.loc[dfpop['Indicator Code'].isin(['SP.POP.DPND'])]\n",
    "dfpop_Wrk_old = dfpop.loc[dfpop['Indicator Code'].isin(['SP.POP.DPND.OL'])]\n",
    "dfpop_Wrk_yng = dfpop.loc[dfpop['Indicator Code'].isin(['SP.POP.DPND.YG'])]"
   ]
  },
  {
   "cell_type": "code",
   "execution_count": 224,
   "metadata": {},
   "outputs": [
    {
     "data": {
      "text/html": [
       "<div>\n",
       "<style scoped>\n",
       "    .dataframe tbody tr th:only-of-type {\n",
       "        vertical-align: middle;\n",
       "    }\n",
       "\n",
       "    .dataframe tbody tr th {\n",
       "        vertical-align: top;\n",
       "    }\n",
       "\n",
       "    .dataframe thead th {\n",
       "        text-align: right;\n",
       "    }\n",
       "</style>\n",
       "<table border=\"1\" class=\"dataframe\">\n",
       "  <thead>\n",
       "    <tr style=\"text-align: right;\">\n",
       "      <th></th>\n",
       "      <th>2016</th>\n",
       "    </tr>\n",
       "  </thead>\n",
       "  <tbody>\n",
       "    <tr>\n",
       "      <th>count</th>\n",
       "      <td>239.000000</td>\n",
       "    </tr>\n",
       "    <tr>\n",
       "      <th>mean</th>\n",
       "      <td>58.781579</td>\n",
       "    </tr>\n",
       "    <tr>\n",
       "      <th>std</th>\n",
       "      <td>16.813850</td>\n",
       "    </tr>\n",
       "    <tr>\n",
       "      <th>min</th>\n",
       "      <td>17.608178</td>\n",
       "    </tr>\n",
       "    <tr>\n",
       "      <th>25%</th>\n",
       "      <td>47.855183</td>\n",
       "    </tr>\n",
       "    <tr>\n",
       "      <th>50%</th>\n",
       "      <td>53.801531</td>\n",
       "    </tr>\n",
       "    <tr>\n",
       "      <th>75%</th>\n",
       "      <td>67.713289</td>\n",
       "    </tr>\n",
       "    <tr>\n",
       "      <th>max</th>\n",
       "      <td>111.778739</td>\n",
       "    </tr>\n",
       "  </tbody>\n",
       "</table>\n",
       "</div>"
      ],
      "text/plain": [
       "             2016\n",
       "count  239.000000\n",
       "mean    58.781579\n",
       "std     16.813850\n",
       "min     17.608178\n",
       "25%     47.855183\n",
       "50%     53.801531\n",
       "75%     67.713289\n",
       "max    111.778739"
      ]
     },
     "execution_count": 224,
     "metadata": {},
     "output_type": "execute_result"
    }
   ],
   "source": [
    "#Exploring population\n",
    "dfpop_Wrk.describe()"
   ]
  },
  {
   "cell_type": "code",
   "execution_count": 225,
   "metadata": {},
   "outputs": [
    {
     "data": {
      "text/plain": [
       "<matplotlib.axes._subplots.AxesSubplot at 0x1519ab3a90>"
      ]
     },
     "execution_count": 225,
     "metadata": {},
     "output_type": "execute_result"
    },
    {
     "data": {
      "image/png": "[encoded data removed]",
      "text/plain": [
       "<matplotlib.figure.Figure at 0x1519ab3518>"
      ]
     },
     "metadata": {},
     "output_type": "display_data"
    }
   ],
   "source": [
    "dfpop_Wrk.plot.hist()"
   ]
  },
  {
   "cell_type": "code",
   "execution_count": 213,
   "metadata": {},
   "outputs": [
    {
     "data": {
      "image/png": "[encoded data removed]",
      "text/plain": [
       "<matplotlib.figure.Figure at 0x1520d832b0>"
      ]
     },
     "metadata": {},
     "output_type": "display_data"
    }
   ],
   "source": [
    "plt.plot(dfpop_Wrk['Country Code'],dfpop_Wrk['2016'],'ro')\n",
    "plt.show()"
   ]
  },
  {
   "cell_type": "code",
   "execution_count": 214,
   "metadata": {},
   "outputs": [
    {
     "name": "stdout",
     "output_type": "stream",
     "text": [
      "['AGO', 'TCD', 'COD', 'MLI', 'NER', 'SOM', 'UGA']\n"
     ]
    }
   ],
   "source": [
    "#Finding Outlers in SP.POP.DPND\n",
    "outliers = []\n",
    "for i in dfpop_Wrk.values:\n",
    "    if i[2]>95 or i[2]<10:\n",
    "        outliers.append(i[0])\n",
    "print(outliers)\n",
    "        "
   ]
  },
  {
   "cell_type": "code",
   "execution_count": 228,
   "metadata": {},
   "outputs": [
    {
     "name": "stdout",
     "output_type": "stream",
     "text": [
      "       Country Code  Indicator Code        2016\n",
      "82788           AGO     SP.POP.DPND   97.274212\n",
      "82789           AGO  SP.POP.DPND.OL    4.634846\n",
      "82790           AGO  SP.POP.DPND.YG   92.639366\n",
      "135291          TCD     SP.POP.DPND   99.426016\n",
      "135292          TCD  SP.POP.DPND.OL    4.930255\n",
      "135293          TCD  SP.POP.DPND.YG   94.495762\n",
      "144837          COD     SP.POP.DPND   97.496491\n",
      "144838          COD  SP.POP.DPND.OL    5.965313\n",
      "144839          COD  SP.POP.DPND.YG   91.531178\n",
      "270526          MLI     SP.POP.DPND  101.460053\n",
      "270527          MLI  SP.POP.DPND.OL    5.087520\n",
      "270528          MLI  SP.POP.DPND.YG   96.372533\n",
      "303937          NER     SP.POP.DPND  111.778739\n",
      "303938          NER  SP.POP.DPND.OL    5.399137\n",
      "303939          NER  SP.POP.DPND.YG  106.379602\n",
      "354849          SOM     SP.POP.DPND   97.049243\n",
      "354850          SOM  SP.POP.DPND.OL    5.343589\n",
      "354851          SOM  SP.POP.DPND.YG   91.705653\n",
      "396215          UGA     SP.POP.DPND  100.630768\n",
      "396216          UGA  SP.POP.DPND.OL    4.355821\n",
      "396217          UGA  SP.POP.DPND.YG   96.274947\n"
     ]
    }
   ],
   "source": [
    "\n",
    "dfPopOut= df.loc[df['Indicator Code'].isin(['SP.POP.DPND','SP.POP.DPND.OL','SP.POP.DPND.YG'])]\n",
    "dfPopOut = dfPopOut[dfPopOut['Country Code'].isin(['AGO', 'TCD', 'COD', 'MLI', 'NER', 'SOM', 'UGA'])]\n",
    "dfPopOut = dfPopOut[['Country Code','Indicator Code','2016']]\n",
    "print(dfPopOut)"
   ]
  },
  {
   "cell_type": "code",
   "execution_count": 229,
   "metadata": {},
   "outputs": [
    {
     "data": {
      "text/html": [
       "<div>\n",
       "<style scoped>\n",
       "    .dataframe tbody tr th:only-of-type {\n",
       "        vertical-align: middle;\n",
       "    }\n",
       "\n",
       "    .dataframe tbody tr th {\n",
       "        vertical-align: top;\n",
       "    }\n",
       "\n",
       "    .dataframe thead th {\n",
       "        text-align: right;\n",
       "    }\n",
       "</style>\n",
       "<table border=\"1\" class=\"dataframe\">\n",
       "  <thead>\n",
       "    <tr style=\"text-align: right;\">\n",
       "      <th></th>\n",
       "      <th>2016</th>\n",
       "    </tr>\n",
       "  </thead>\n",
       "  <tbody>\n",
       "    <tr>\n",
       "      <th>count</th>\n",
       "      <td>239.000000</td>\n",
       "    </tr>\n",
       "    <tr>\n",
       "      <th>mean</th>\n",
       "      <td>45.625819</td>\n",
       "    </tr>\n",
       "    <tr>\n",
       "      <th>std</th>\n",
       "      <td>21.641018</td>\n",
       "    </tr>\n",
       "    <tr>\n",
       "      <th>min</th>\n",
       "      <td>15.354240</td>\n",
       "    </tr>\n",
       "    <tr>\n",
       "      <th>25%</th>\n",
       "      <td>27.415526</td>\n",
       "    </tr>\n",
       "    <tr>\n",
       "      <th>50%</th>\n",
       "      <td>40.784284</td>\n",
       "    </tr>\n",
       "    <tr>\n",
       "      <th>75%</th>\n",
       "      <td>61.269158</td>\n",
       "    </tr>\n",
       "    <tr>\n",
       "      <th>max</th>\n",
       "      <td>106.379602</td>\n",
       "    </tr>\n",
       "  </tbody>\n",
       "</table>\n",
       "</div>"
      ],
      "text/plain": [
       "             2016\n",
       "count  239.000000\n",
       "mean    45.625819\n",
       "std     21.641018\n",
       "min     15.354240\n",
       "25%     27.415526\n",
       "50%     40.784284\n",
       "75%     61.269158\n",
       "max    106.379602"
      ]
     },
     "execution_count": 229,
     "metadata": {},
     "output_type": "execute_result"
    }
   ],
   "source": [
    "#Work young data analysics\n",
    "dfpop_Wrk_yng.describe()\n"
   ]
  },
  {
   "cell_type": "code",
   "execution_count": 230,
   "metadata": {},
   "outputs": [
    {
     "data": {
      "text/plain": [
       "<matplotlib.axes._subplots.AxesSubplot at 0x151be20a20>"
      ]
     },
     "execution_count": 230,
     "metadata": {},
     "output_type": "execute_result"
    },
    {
     "data": {
      "image/png": "[encoded data removed]",
      "text/plain": [
       "<matplotlib.figure.Figure at 0x1520f3ae80>"
      ]
     },
     "metadata": {},
     "output_type": "display_data"
    }
   ],
   "source": [
    "dfpop_Wrk_yng.plot.hist()"
   ]
  },
  {
   "cell_type": "code",
   "execution_count": 233,
   "metadata": {},
   "outputs": [
    {
     "name": "stdout",
     "output_type": "stream",
     "text": [
      "['AGO', 'TCD', 'COD', 'MLI', 'NER', 'SOM', 'UGA']\n"
     ]
    }
   ],
   "source": [
    "#Finding Outlers in SP.POP.DPND\n",
    "outliers = []\n",
    "for i in dfpop_Wrk_yng.values:\n",
    "    if i[2]>90:\n",
    "        outliers.append(i[0])\n",
    "print(outliers)"
   ]
  },
  {
   "cell_type": "code",
   "execution_count": 234,
   "metadata": {},
   "outputs": [
    {
     "data": {
      "text/html": [
       "<div>\n",
       "<style scoped>\n",
       "    .dataframe tbody tr th:only-of-type {\n",
       "        vertical-align: middle;\n",
       "    }\n",
       "\n",
       "    .dataframe tbody tr th {\n",
       "        vertical-align: top;\n",
       "    }\n",
       "\n",
       "    .dataframe thead th {\n",
       "        text-align: right;\n",
       "    }\n",
       "</style>\n",
       "<table border=\"1\" class=\"dataframe\">\n",
       "  <thead>\n",
       "    <tr style=\"text-align: right;\">\n",
       "      <th></th>\n",
       "      <th>2016</th>\n",
       "    </tr>\n",
       "  </thead>\n",
       "  <tbody>\n",
       "    <tr>\n",
       "      <th>count</th>\n",
       "      <td>239.000000</td>\n",
       "    </tr>\n",
       "    <tr>\n",
       "      <th>mean</th>\n",
       "      <td>13.011244</td>\n",
       "    </tr>\n",
       "    <tr>\n",
       "      <th>std</th>\n",
       "      <td>8.659866</td>\n",
       "    </tr>\n",
       "    <tr>\n",
       "      <th>min</th>\n",
       "      <td>1.275081</td>\n",
       "    </tr>\n",
       "    <tr>\n",
       "      <th>25%</th>\n",
       "      <td>6.197587</td>\n",
       "    </tr>\n",
       "    <tr>\n",
       "      <th>50%</th>\n",
       "      <td>9.795671</td>\n",
       "    </tr>\n",
       "    <tr>\n",
       "      <th>75%</th>\n",
       "      <td>18.614341</td>\n",
       "    </tr>\n",
       "    <tr>\n",
       "      <th>max</th>\n",
       "      <td>43.908595</td>\n",
       "    </tr>\n",
       "  </tbody>\n",
       "</table>\n",
       "</div>"
      ],
      "text/plain": [
       "             2016\n",
       "count  239.000000\n",
       "mean    13.011244\n",
       "std      8.659866\n",
       "min      1.275081\n",
       "25%      6.197587\n",
       "50%      9.795671\n",
       "75%     18.614341\n",
       "max     43.908595"
      ]
     },
     "execution_count": 234,
     "metadata": {},
     "output_type": "execute_result"
    }
   ],
   "source": [
    "dfpop_Wrk_old.describe()"
   ]
  },
  {
   "cell_type": "code",
   "execution_count": 236,
   "metadata": {},
   "outputs": [
    {
     "data": {
      "text/plain": [
       "<matplotlib.axes._subplots.AxesSubplot at 0x151be85be0>"
      ]
     },
     "execution_count": 236,
     "metadata": {},
     "output_type": "execute_result"
    },
    {
     "data": {
      "image/png": "[encoded data removed]",
      "text/plain": [
       "<matplotlib.figure.Figure at 0x151ca232b0>"
      ]
     },
     "metadata": {},
     "output_type": "display_data"
    }
   ],
   "source": [
    "dfpop_Wrk_old.plot.hist()"
   ]
  },
  {
   "cell_type": "code",
   "execution_count": 243,
   "metadata": {},
   "outputs": [
    {
     "name": "stdout",
     "output_type": "stream",
     "text": [
      "['KWT', 'QAT', 'ARE']\n"
     ]
    }
   ],
   "source": [
    "#Finding Outlers in SP.POP.DPND\n",
    "outliers = []\n",
    "for i in dfpop_Wrk_old.values:\n",
    "    if i[2]<3 or i[2] > 50:\n",
    "        outliers.append(i[0])\n",
    "print(outliers)"
   ]
  },
  {
   "cell_type": "code",
   "execution_count": 244,
   "metadata": {},
   "outputs": [],
   "source": [
    "#No outliers in the old population categories"
   ]
  },
  {
   "cell_type": "markdown",
   "metadata": {},
   "source": [
    "Conclusion :\n",
    "\n",
    "In the overall population we could see below countries are having population working greater than 90 and less than 10.\n",
    "* AGO\n",
    "* TCD\n",
    "* COD\n",
    "* MLI\n",
    "* NER\n",
    "* SOM\n",
    "* UGA\n",
    "\n",
    "In the young population we could see below countries are having population working greater than 90.\n",
    "\n",
    "* AGO\n",
    "* TCD\n",
    "* COD\n",
    "* MLI\n",
    "* NER\n",
    "* SOM\n",
    "* UGA\n",
    "\n",
    "In the old population we couldn’t  see below countries are having population with greater or smaller range\n",
    "\n",
    "\n",
    "We can conclude that for year 2016 below countries are the outliers.\n",
    "* AGO\n",
    "* TCD\n",
    "* COD\n",
    "* MLI\n",
    "* NER\n",
    "* SOM\n",
    "* UGA\n",
    "Future work.\n",
    "We can further analyze the data and find what is the rational behind these observation and conclude if this is a valid outlier "
   ]
  },
  {
   "cell_type": "code",
   "execution_count": null,
   "metadata": {},
   "outputs": [],
   "source": []
  }
 ],
 "metadata": {
  "kernelspec": {
   "display_name": "Python 3",
   "language": "python",
   "name": "python3"
  },
  "language_info": {
   "codemirror_mode": {
    "name": "ipython",
    "version": 3
   },
   "file_extension": ".py",
   "mimetype": "text/x-python",
   "name": "python",
   "nbconvert_exporter": "python",
   "pygments_lexer": "ipython3",
   "version": "3.6.4"
  }
 },
 "nbformat": 4,
 "nbformat_minor": 2
}
